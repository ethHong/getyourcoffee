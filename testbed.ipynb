{
 "cells": [
  {
   "cell_type": "code",
   "execution_count": 9,
   "id": "734e3785",
   "metadata": {},
   "outputs": [],
   "source": [
    "import streamlit as st\n",
    "from geopy.geocoders import Nominatim\n",
    "import folium\n",
    "from streamlit_folium import st_folium\n",
    "from datetime import datetime, timedelta"
   ]
  },
  {
   "cell_type": "code",
   "execution_count": 1,
   "id": "968fbf46",
   "metadata": {},
   "outputs": [],
   "source": [
    "start_address = \"UCLA, Los Angeles, CA\"\n",
    "end_address = \"Veteran Avenue, Los Angeles, CA\""
   ]
  },
  {
   "cell_type": "code",
   "execution_count": 3,
   "id": "c0289ba5",
   "metadata": {},
   "outputs": [],
   "source": [
    "geolocator = Nominatim(user_agent=\"coffee_route_app\")"
   ]
  },
  {
   "cell_type": "code",
   "execution_count": 4,
   "id": "a6c77946",
   "metadata": {},
   "outputs": [],
   "source": [
    "def get_location(address):\n",
    "    try:\n",
    "        location = geolocator.geocode(address)\n",
    "        if location:\n",
    "            return (location.latitude, location.longitude)\n",
    "    except:\n",
    "        pass\n",
    "    return None"
   ]
  },
  {
   "cell_type": "code",
   "execution_count": 10,
   "id": "e5e15143",
   "metadata": {},
   "outputs": [],
   "source": [
    "lat, lon = get_location(\"UCLA\")"
   ]
  },
  {
   "cell_type": "code",
   "execution_count": 13,
   "id": "3de818cc",
   "metadata": {},
   "outputs": [],
   "source": [
    "overpass_url = \"http://overpass-api.de/api/interpreter\"\n",
    "query = f\"\"\"\n",
    "[out:json][timeout:25];\n",
    "node[\"amenity\"=\"cafe\"](around:{1000},{lat},{lon});\n",
    "out body;\n",
    "\"\"\""
   ]
  },
  {
   "cell_type": "code",
   "execution_count": 15,
   "id": "e164e7a5",
   "metadata": {},
   "outputs": [],
   "source": [
    "import requests\n",
    "\n",
    "response = requests.get(overpass_url, params={\"data\": query})"
   ]
  },
  {
   "cell_type": "code",
   "execution_count": 24,
   "id": "bf3aea02",
   "metadata": {},
   "outputs": [],
   "source": [
    "data = response.json()\n",
    "cafes = data.get(\"elements\", [])[:20]"
   ]
  },
  {
   "cell_type": "code",
   "execution_count": 25,
   "id": "46f7db75",
   "metadata": {},
   "outputs": [],
   "source": [
    "out = [\n",
    "    {\n",
    "        \"name\": cafe.get(\"tags\", {}).get(\"name\", \"Unnamed Cafe\"),\n",
    "        \"lat\": cafe[\"lat\"],\n",
    "        \"lon\": cafe[\"lon\"],\n",
    "    }\n",
    "    for cafe in cafes\n",
    "]"
   ]
  },
  {
   "cell_type": "code",
   "execution_count": 26,
   "id": "b00216f1",
   "metadata": {},
   "outputs": [
    {
     "data": {
      "text/plain": [
       "[{'name': 'Kerckhoff Coffee House', 'lat': 34.0705686, 'lon': -118.4433778},\n",
       " {'name': 'Starbucks', 'lat': 34.0624873, 'lon': -118.4473927},\n",
       " {'name': 'Bruin Cafe', 'lat': 34.072565, 'lon': -118.4503114},\n",
       " {'name': 'Seasnet Cafe', 'lat': 34.0692289, 'lon': -118.4430217},\n",
       " {'name': 'Northern Lights', 'lat': 34.0744303, 'lon': -118.4423483},\n",
       " {'name': 'Untitled Café', 'lat': 34.0759625, 'lon': -118.440938},\n",
       " {'name': 'Cafe 451', 'lat': 34.0748497, 'lon': -118.441283},\n",
       " {'name': \"Jimmy's Coffee House\", 'lat': 34.0737093, 'lon': -118.4394346},\n",
       " {'name': 'Bruin Buzz', 'lat': 34.0701867, 'lon': -118.4439673},\n",
       " {'name': 'North Campus Shop', 'lat': 34.0739067, 'lon': -118.4437391},\n",
       " {'name': 'Bluestone Lane', 'lat': 34.0627171, 'lon': -118.444967},\n",
       " {'name': 'Lollicup', 'lat': 34.0705113, 'lon': -118.444093},\n",
       " {'name': 'Lu Valle Eateries', 'lat': 34.07356, 'lon': -118.4392304},\n",
       " {'name': 'Cafe Synapse', 'lat': 34.0671845, 'lon': -118.4446638},\n",
       " {'name': 'Corner Bakery', 'lat': 34.0621954, 'lon': -118.445595},\n",
       " {'name': 'Evelyn & Mo Ostin Music Cafe',\n",
       "  'lat': 34.0702776,\n",
       "  'lon': -118.4405486},\n",
       " {'name': 'Southern Lights', 'lat': 34.0683889, 'lon': -118.442346},\n",
       " {'name': 'Starbucks', 'lat': 34.0627064, 'lon': -118.443909},\n",
       " {'name': 'Starbucks', 'lat': 34.0634774, 'lon': -118.443976},\n",
       " {'name': 'The Coffee Bean & Tea Leaf',\n",
       "  'lat': 34.0702344,\n",
       "  'lon': -118.4385067}]"
      ]
     },
     "execution_count": 26,
     "metadata": {},
     "output_type": "execute_result"
    }
   ],
   "source": [
    "out"
   ]
  },
  {
   "cell_type": "code",
   "execution_count": null,
   "id": "9bbbbd83",
   "metadata": {},
   "outputs": [
    {
     "name": "stdout",
     "output_type": "stream",
     "text": [
      "Collecting openrouteservice\n",
      "  Downloading openrouteservice-2.3.3-py3-none-any.whl.metadata (9.2 kB)\n",
      "Requirement already satisfied: requests>=2.0 in /Users/HongSukhyun/.local/share/virtualenvs/getyourcoffee-cLzqEqHk/lib/python3.8/site-packages (from openrouteservice) (2.32.3)\n",
      "Requirement already satisfied: charset-normalizer<4,>=2 in /Users/HongSukhyun/.local/share/virtualenvs/getyourcoffee-cLzqEqHk/lib/python3.8/site-packages (from requests>=2.0->openrouteservice) (3.4.2)\n",
      "Requirement already satisfied: idna<4,>=2.5 in /Users/HongSukhyun/.local/share/virtualenvs/getyourcoffee-cLzqEqHk/lib/python3.8/site-packages (from requests>=2.0->openrouteservice) (3.10)\n",
      "Requirement already satisfied: urllib3<3,>=1.21.1 in /Users/HongSukhyun/.local/share/virtualenvs/getyourcoffee-cLzqEqHk/lib/python3.8/site-packages (from requests>=2.0->openrouteservice) (2.2.3)\n",
      "Requirement already satisfied: certifi>=2017.4.17 in /Users/HongSukhyun/.local/share/virtualenvs/getyourcoffee-cLzqEqHk/lib/python3.8/site-packages (from requests>=2.0->openrouteservice) (2025.4.26)\n",
      "Downloading openrouteservice-2.3.3-py3-none-any.whl (33 kB)\n",
      "Installing collected packages: openrouteservice\n",
      "Successfully installed openrouteservice-2.3.3\n"
     ]
    }
   ],
   "source": [
    "!pip install openrouteservice"
   ]
  },
  {
   "cell_type": "code",
   "execution_count": 29,
   "id": "a4182f80",
   "metadata": {},
   "outputs": [],
   "source": [
    "import openrouteservice\n",
    "\n",
    "# Read api_key.txt\n",
    "with open(\"api_key.txt\", \"r\") as file:\n",
    "    ORS_API_KEY = file.read().strip()\n",
    "\n",
    "ors_client = openrouteservice.Client(key=ORS_API_KEY)"
   ]
  },
  {
   "cell_type": "code",
   "execution_count": 31,
   "id": "29ab1d24",
   "metadata": {},
   "outputs": [],
   "source": [
    "def get_eta_minutes(start_coords, end_coords, mode=\"foot-walking\"):\n",
    "    try:\n",
    "        route = ors_client.directions(\n",
    "            coordinates=[\n",
    "                (start_coords[1], start_coords[0]),\n",
    "                (end_coords[1], end_coords[0]),\n",
    "            ],\n",
    "            profile=mode,\n",
    "            format=\"geojson\",\n",
    "        )\n",
    "        duration_sec = route[\"features\"][0][\"properties\"][\"summary\"][\"duration\"]\n",
    "        return round(duration_sec / 60, 1)\n",
    "    except Exception as e:\n",
    "        print(f\"ORS route error: {e}\")\n",
    "        return None"
   ]
  },
  {
   "cell_type": "code",
   "execution_count": 1,
   "id": "e89d0cb8",
   "metadata": {},
   "outputs": [
    {
     "name": "stderr",
     "output_type": "stream",
     "text": [
      "/Users/HongSukhyun/.local/share/virtualenvs/getyourcoffee-cLzqEqHk/lib/python3.8/site-packages/urllib3/__init__.py:35: NotOpenSSLWarning: urllib3 v2 only supports OpenSSL 1.1.1+, currently the 'ssl' module is compiled with 'LibreSSL 2.8.3'. See: https://github.com/urllib3/urllib3/issues/3020\n",
      "  warnings.warn(\n"
     ]
    }
   ],
   "source": [
    "import requests\n",
    "\n",
    "with open(\"ETA_key.txt\", \"r\") as file:\n",
    "    FOURSQUARE_API_KEY = file.read().strip()"
   ]
  },
  {
   "cell_type": "code",
   "execution_count": 1,
   "id": "7494c3a6",
   "metadata": {},
   "outputs": [
    {
     "name": "stderr",
     "output_type": "stream",
     "text": [
      "/Users/HongSukhyun/.local/share/virtualenvs/getyourcoffee-cLzqEqHk/lib/python3.8/site-packages/urllib3/__init__.py:35: NotOpenSSLWarning: urllib3 v2 only supports OpenSSL 1.1.1+, currently the 'ssl' module is compiled with 'LibreSSL 2.8.3'. See: https://github.com/urllib3/urllib3/issues/3020\n",
      "  warnings.warn(\n"
     ]
    },
    {
     "name": "stdout",
     "output_type": "stream",
     "text": [
      "\n",
      "⏰ Time Slot: MORNING (hour=8)\n",
      "\n",
      "☕ UCLA Kerckhoff Coffee House — Estimated Wait: 5.11 min\n",
      "☕ UCLA Cafe Med — Estimated Wait: 3.92 min\n",
      "☕ Espresso Profeta — Estimated Wait: 4.45 min\n",
      "☕ Starbucks Westwood — Estimated Wait: 6.18 min\n",
      "☕ Persepolis Cafe — Estimated Wait: 5.23 min\n",
      "\n",
      "⏰ Time Slot: LUNCH (hour=12)\n",
      "\n",
      "☕ UCLA Kerckhoff Coffee House — Estimated Wait: 17.06 min\n",
      "☕ UCLA Cafe Med — Estimated Wait: 12.69 min\n",
      "☕ Espresso Profeta — Estimated Wait: 12.69 min\n",
      "☕ Starbucks Westwood — Estimated Wait: 12.58 min\n",
      "☕ Persepolis Cafe — Estimated Wait: 13.73 min\n",
      "\n",
      "⏰ Time Slot: AFTERNOON (hour=15)\n",
      "\n",
      "☕ UCLA Kerckhoff Coffee House — Estimated Wait: 7.35 min\n",
      "☕ UCLA Cafe Med — Estimated Wait: 5.41 min\n",
      "☕ Espresso Profeta — Estimated Wait: 5.73 min\n",
      "☕ Starbucks Westwood — Estimated Wait: 7.56 min\n",
      "☕ Persepolis Cafe — Estimated Wait: 6.66 min\n",
      "\n",
      "⏰ Time Slot: EVENING (hour=18)\n",
      "\n",
      "☕ UCLA Kerckhoff Coffee House — Estimated Wait: 10.11 min\n",
      "☕ UCLA Cafe Med — Estimated Wait: 7.5 min\n",
      "☕ Espresso Profeta — Estimated Wait: 7.83 min\n",
      "☕ Starbucks Westwood — Estimated Wait: 9.99 min\n",
      "☕ Persepolis Cafe — Estimated Wait: 8.87 min\n",
      "\n",
      "⏰ Time Slot: NIGHT (hour=23)\n",
      "\n",
      "☕ UCLA Kerckhoff Coffee House — Estimated Wait: 4.51 min\n",
      "☕ UCLA Cafe Med — Estimated Wait: 3.63 min\n",
      "☕ Espresso Profeta — Estimated Wait: 3.89 min\n",
      "☕ Starbucks Westwood — Estimated Wait: 6.45 min\n",
      "☕ Persepolis Cafe — Estimated Wait: 4.59 min\n"
     ]
    }
   ],
   "source": [
    "import requests\n",
    "from wait_time import estimate_wait_time  # 너가 작성한 함수 import\n",
    "import time\n",
    "\n",
    "# 🔑 API KEY 및 요청 설정\n",
    "with open(\"ETA_key.txt\", \"r\") as file:\n",
    "    FOURSQUARE_API_KEY = file.read().strip()\n",
    "\n",
    "headers = {\n",
    "    \"Authorization\": FOURSQUARE_API_KEY,\n",
    "    \"Accept\": \"application/json\",\n",
    "}\n",
    "\n",
    "# 🕒 시간대 정의\n",
    "time_slots = {\n",
    "    \"morning\": 8,\n",
    "    \"lunch\": 12,\n",
    "    \"afternoon\": 15,\n",
    "    \"evening\": 18,\n",
    "    \"night\": 23,\n",
    "}\n",
    "\n",
    "# 📍 시뮬레이션할 장소들 (이름, 위도, 경도)\n",
    "places = {\n",
    "    \"UCLA Kerckhoff Coffee House\": (34.0712, -118.4437),\n",
    "    \"UCLA Cafe Med\": (34.0653, -118.4447),\n",
    "    \"Espresso Profeta\": (34.0592, -118.4454),\n",
    "    \"Starbucks Westwood\": (34.0601, -118.4429),\n",
    "    \"Persepolis Cafe\": (34.0587, -118.4421),\n",
    "}\n",
    "\n",
    "# ⏳ 시뮬레이션 시작\n",
    "for slot, hour in time_slots.items():\n",
    "    print(f\"\\n⏰ Time Slot: {slot.upper()} (hour={hour})\\n\")\n",
    "\n",
    "    for name, (lat, lon) in places.items():\n",
    "        try:\n",
    "            wait = estimate_wait_time(lat, lon, hour=hour)\n",
    "            print(f\"☕ {name} — Estimated Wait: {wait} min\")\n",
    "        except Exception as e:\n",
    "            print(f\"❌ {name} — Failed: {e}\")\n",
    "        time.sleep(0.3)  # Foursquare API rate limit 고려"
   ]
  }
 ],
 "metadata": {
  "kernelspec": {
   "display_name": "getyourcoffee-cLzqEqHk",
   "language": "python",
   "name": "python3"
  },
  "language_info": {
   "codemirror_mode": {
    "name": "ipython",
    "version": 3
   },
   "file_extension": ".py",
   "mimetype": "text/x-python",
   "name": "python",
   "nbconvert_exporter": "python",
   "pygments_lexer": "ipython3",
   "version": "3.8.2"
  }
 },
 "nbformat": 4,
 "nbformat_minor": 5
}
