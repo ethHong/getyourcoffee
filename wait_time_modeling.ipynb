{
 "cells": [
  {
   "cell_type": "code",
   "execution_count": 2,
   "metadata": {},
   "outputs": [
    {
     "name": "stderr",
     "output_type": "stream",
     "text": [
      "/Users/HongSukhyun/.local/share/virtualenvs/getyourcoffee-cLzqEqHk/lib/python3.8/site-packages/urllib3/__init__.py:35: NotOpenSSLWarning: urllib3 v2 only supports OpenSSL 1.1.1+, currently the 'ssl' module is compiled with 'LibreSSL 2.8.3'. See: https://github.com/urllib3/urllib3/issues/3020\n",
      "  warnings.warn(\n",
      "2025-06-05 15:04:52.659 WARNING streamlit.runtime.scriptrunner_utils.script_run_context: Thread 'MainThread': missing ScriptRunContext! This warning can be ignored when running in bare mode.\n"
     ]
    },
    {
     "ename": "ModuleNotFoundError",
     "evalue": "No module named 'gurobipy'",
     "output_type": "error",
     "traceback": [
      "\u001b[0;31m---------------------------------------------------------------------------\u001b[0m",
      "\u001b[0;31mModuleNotFoundError\u001b[0m                       Traceback (most recent call last)",
      "Cell \u001b[0;32mIn[2], line 3\u001b[0m\n\u001b[1;32m      1\u001b[0m \u001b[38;5;28;01mimport\u001b[39;00m\u001b[38;5;250m \u001b[39m\u001b[38;5;21;01mnumpy\u001b[39;00m\u001b[38;5;250m \u001b[39m\u001b[38;5;28;01mas\u001b[39;00m\u001b[38;5;250m \u001b[39m\u001b[38;5;21;01mnp\u001b[39;00m\n\u001b[1;32m      2\u001b[0m \u001b[38;5;28;01mfrom\u001b[39;00m\u001b[38;5;250m \u001b[39m\u001b[38;5;21;01mgeo_modules\u001b[39;00m\u001b[38;5;250m \u001b[39m\u001b[38;5;28;01mimport\u001b[39;00m \u001b[38;5;241m*\u001b[39m\n\u001b[0;32m----> 3\u001b[0m \u001b[38;5;28;01mfrom\u001b[39;00m\u001b[38;5;250m \u001b[39m\u001b[38;5;21;01mwait_time\u001b[39;00m\u001b[38;5;250m \u001b[39m\u001b[38;5;28;01mimport\u001b[39;00m \u001b[38;5;241m*\u001b[39m\n",
      "File \u001b[0;32m~/Documents/getyourcoffee/wait_time.py:4\u001b[0m\n\u001b[1;32m      2\u001b[0m \u001b[38;5;28;01mfrom\u001b[39;00m\u001b[38;5;250m \u001b[39m\u001b[38;5;21;01mscipy\u001b[39;00m\u001b[38;5;21;01m.\u001b[39;00m\u001b[38;5;21;01mstats\u001b[39;00m\u001b[38;5;250m \u001b[39m\u001b[38;5;28;01mimport\u001b[39;00m truncnorm\n\u001b[1;32m      3\u001b[0m \u001b[38;5;28;01mimport\u001b[39;00m\u001b[38;5;250m \u001b[39m\u001b[38;5;21;01mrequests\u001b[39;00m\n\u001b[0;32m----> 4\u001b[0m \u001b[38;5;28;01mimport\u001b[39;00m\u001b[38;5;250m \u001b[39m\u001b[38;5;21;01mgurobipy\u001b[39;00m\u001b[38;5;250m \u001b[39m\u001b[38;5;28;01mas\u001b[39;00m\u001b[38;5;250m \u001b[39m\u001b[38;5;21;01mgp\u001b[39;00m\n\u001b[1;32m      5\u001b[0m \u001b[38;5;28;01mfrom\u001b[39;00m\u001b[38;5;250m \u001b[39m\u001b[38;5;21;01mgurobipy\u001b[39;00m\u001b[38;5;250m \u001b[39m\u001b[38;5;28;01mimport\u001b[39;00m GRB\n\u001b[1;32m      8\u001b[0m \u001b[38;5;66;03m# 🔑 API Key\u001b[39;00m\n",
      "\u001b[0;31mModuleNotFoundError\u001b[0m: No module named 'gurobipy'"
     ]
    }
   ],
   "source": [
    "import numpy as np\n",
    "from geo_modules import *\n",
    "from wait_time import *"
   ]
  },
  {
   "cell_type": "code",
   "execution_count": 5,
   "metadata": {},
   "outputs": [],
   "source": [
    "model_config = {\n",
    "    \"time_baseline\": {\n",
    "        \"morning\": 3.0,\n",
    "        \"lunch\": 10.0,\n",
    "        \"afternoon\": 2.0,\n",
    "        \"evening\": 5.0,\n",
    "        \"night\": 1.0,\n",
    "    },\n",
    "    \"category_weights\": {\n",
    "        \"university\": 1.4,\n",
    "        \"residential\": 0.5,\n",
    "        \"office\": 1.3,\n",
    "        \"mall\": 1.2,\n",
    "        \"default\": 1.0,\n",
    "    },\n",
    "}\n",
    "\n",
    "\n",
    "# 1. S-curve\n",
    "def s_curve(sf, a=1.0, b=20.0, c=2.0, d=1.5):\n",
    "    return a + (b - a) * (sf**c) / (d + sf**c)\n",
    "\n",
    "\n",
    "# 2. Score Factor\n",
    "def compute_score_factor(info, hour, config):\n",
    "    category = info.get(\"category\", \"default\")\n",
    "    category_weight = config[\"category_weights\"].get(category, 1.0)\n",
    "\n",
    "    time_slot = get_time_slot(hour)\n",
    "    time_baseline = config[\"time_baseline\"].get(time_slot, 5.0)\n",
    "\n",
    "    rating = max(info.get(\"rating\", 4.0), 1.0)\n",
    "    review_count = max(info.get(\"review_count\", 5), 1)\n",
    "    density = info.get(\"density\", 0.5)\n",
    "\n",
    "    log_reviews = np.log1p(review_count)\n",
    "\n",
    "    sf = (\n",
    "        1.0 * category_weight\n",
    "        + 1.0 * (time_baseline / 10.0)\n",
    "        + 1.2 * density\n",
    "        + 0.4 * (log_reviews / 3.0)\n",
    "        + 0.8 * ((5.0 - rating) / 4.0)\n",
    "    )\n",
    "    return sf, rating, density\n",
    "\n",
    "\n",
    "# 3. Wait Time\n",
    "def estimate_wait_time(lat, lon, hour=None, config=model_config):\n",
    "    info = fetch_foursquare_info(lat, lon)\n",
    "    hour = hour or int(np.datetime64(\"now\", \"h\").astype(int) % 24)\n",
    "\n",
    "    sf, rating, density = compute_score_factor(info, hour, config)\n",
    "    wait_time = round(s_curve(sf), 2)\n",
    "\n",
    "    return wait_time, rating, density"
   ]
  },
  {
   "cell_type": "code",
   "execution_count": 6,
   "metadata": {},
   "outputs": [
    {
     "name": "stderr",
     "output_type": "stream",
     "text": [
      "2025-06-05 15:08:26.639 Thread 'MainThread': missing ScriptRunContext! This warning can be ignored when running in bare mode.\n",
      "2025-06-05 15:08:26.640 Thread 'MainThread': missing ScriptRunContext! This warning can be ignored when running in bare mode.\n",
      "2025-06-05 15:08:26.640 Thread 'MainThread': missing ScriptRunContext! This warning can be ignored when running in bare mode.\n",
      "2025-06-05 15:08:26.640 Thread 'MainThread': missing ScriptRunContext! This warning can be ignored when running in bare mode.\n"
     ]
    },
    {
     "name": "stdout",
     "output_type": "stream",
     "text": [
      "\n",
      "📍 Finding cafes near UCLA...\n"
     ]
    },
    {
     "name": "stderr",
     "output_type": "stream",
     "text": [
      "2025-06-05 15:08:27.857 Thread 'MainThread': missing ScriptRunContext! This warning can be ignored when running in bare mode.\n",
      "2025-06-05 15:08:27.859 Thread 'MainThread': missing ScriptRunContext! This warning can be ignored when running in bare mode.\n",
      "2025-06-05 15:08:27.860 Thread 'MainThread': missing ScriptRunContext! This warning can be ignored when running in bare mode.\n",
      "2025-06-05 15:08:27.861 Thread 'MainThread': missing ScriptRunContext! This warning can be ignored when running in bare mode.\n",
      "2025-06-05 15:08:27.862 Thread 'MainThread': missing ScriptRunContext! This warning can be ignored when running in bare mode.\n",
      "2025-06-05 15:08:27.863 Thread 'MainThread': missing ScriptRunContext! This warning can be ignored when running in bare mode.\n"
     ]
    },
    {
     "name": "stdout",
     "output_type": "stream",
     "text": [
      "☕ Bruin Buzz — (34.07019, -118.44397)\n",
      "☕ Cafe Synapse — (34.06718, -118.44466)\n",
      "☕ Seasnet Cafe — (34.06923, -118.44302)\n",
      "☕ Lollicup — (34.07051, -118.44409)\n",
      "☕ Kerckhoff Coffee House — (34.07057, -118.44338)\n",
      "☕ Southern Lights — (34.06839, -118.44235)\n",
      "☕ Evelyn & Mo Ostin Music Cafe — (34.07028, -118.44055)\n",
      "☕ North Campus Shop — (34.07391, -118.44374)\n",
      "☕ Bruin Cafe — (34.07256, -118.45031)\n",
      "☕ Northern Lights — (34.07443, -118.44235)\n",
      "☕ Bluestone Lane — (34.06272, -118.44497)\n",
      "☕ Starbucks — (34.06271, -118.44391)\n",
      "☕ Starbucks — (34.06249, -118.44739)\n",
      "☕ Corner Bakery — (34.06220, -118.44559)\n",
      "☕ Cafe 451 — (34.07485, -118.44128)\n",
      "☕ Jimmy's Coffee House — (34.07371, -118.43943)\n",
      "☕ Lu Valle Eateries — (34.07356, -118.43923)\n",
      "☕ Sharetea — (34.06146, -118.44645)\n",
      "☕ Untitled Café — (34.07596, -118.44094)\n",
      "☕ Elysee — (34.06027, -118.44674)\n",
      "\n",
      "📍 Finding cafes near Veteran Ave...\n"
     ]
    },
    {
     "name": "stderr",
     "output_type": "stream",
     "text": [
      "2025-06-05 15:08:32.960 Thread 'MainThread': missing ScriptRunContext! This warning can be ignored when running in bare mode.\n",
      "2025-06-05 15:08:32.961 Thread 'MainThread': missing ScriptRunContext! This warning can be ignored when running in bare mode.\n"
     ]
    },
    {
     "name": "stdout",
     "output_type": "stream",
     "text": [
      "☕ Lazy Daisy — (34.05998, -118.44658)\n",
      "☕ Le Pain Quotidien — (34.05956, -118.44570)\n",
      "☕ Elysee — (34.06027, -118.44674)\n",
      "☕ Starbucks — (34.05941, -118.44475)\n",
      "☕ Trimana — (34.05831, -118.44458)\n",
      "☕ Sharetea — (34.06146, -118.44645)\n",
      "☕ Comoncy — (34.05823, -118.44397)\n",
      "☕ Profeta — (34.06032, -118.44417)\n",
      "☕ Junbi — (34.06235, -118.44763)\n",
      "☕ Corner Bakery — (34.06220, -118.44559)\n",
      "☕ Starbucks — (34.06249, -118.44739)\n",
      "☕ Ministry of Coffee — (34.06188, -118.44404)\n",
      "☕ Just Boba Tea House — (34.06292, -118.44815)\n",
      "☕ Espressoteric — (34.05668, -118.44281)\n",
      "☕ Bluestone Lane — (34.06272, -118.44497)\n",
      "☕ Starbucks — (34.06271, -118.44391)\n",
      "☕ Starbucks — (34.06348, -118.44398)\n",
      "☕ Starbucks — (34.06591, -118.44332)\n",
      "☕ Cafe Med — (34.06591, -118.44330)\n",
      "☕ Cafe Synapse — (34.06718, -118.44466)\n"
     ]
    }
   ],
   "source": [
    "# Simulate data for coffe shops\n",
    "from geo_modules import find_nearby_cafes\n",
    "\n",
    "# 중심 좌표들\n",
    "areas = {\n",
    "    \"UCLA\": (34.0689, -118.4452),\n",
    "    \"Veteran Ave\": (34.0588, -118.4473),\n",
    "}\n",
    "\n",
    "# 반경(m)과 결과 제한 수\n",
    "radius = 1000\n",
    "limit = 20\n",
    "\n",
    "# 결과 저장용\n",
    "cafes_by_area = {}\n",
    "\n",
    "# 각 지역별 카페 추출\n",
    "for area_name, (lat, lon) in areas.items():\n",
    "    print(f\"\\n📍 Finding cafes near {area_name}...\")\n",
    "    cafes = find_nearby_cafes(lat, lon, radius_m=radius, limit=limit)\n",
    "    cafes_by_area[area_name] = cafes\n",
    "\n",
    "    for cafe in cafes:\n",
    "        print(f\"☕ {cafe['name']} — ({cafe['lat']:.5f}, {cafe['lon']:.5f})\")"
   ]
  },
  {
   "cell_type": "code",
   "execution_count": null,
   "metadata": {},
   "outputs": [],
   "source": []
  }
 ],
 "metadata": {
  "kernelspec": {
   "display_name": "getyourcoffee-cLzqEqHk",
   "language": "python",
   "name": "python3"
  },
  "language_info": {
   "codemirror_mode": {
    "name": "ipython",
    "version": 3
   },
   "file_extension": ".py",
   "mimetype": "text/x-python",
   "name": "python",
   "nbconvert_exporter": "python",
   "pygments_lexer": "ipython3",
   "version": "3.8.2"
  }
 },
 "nbformat": 4,
 "nbformat_minor": 2
}
